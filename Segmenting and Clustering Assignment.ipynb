{
    "cells": [
        {
            "cell_type": "markdown",
            "metadata": {},
            "source": "## Importing Libraries "
        },
        {
            "cell_type": "code",
            "execution_count": 1,
            "metadata": {},
            "outputs": [],
            "source": "# importing necessary libraries\nimport pandas as pd\nimport numpy as np\nfrom bs4 import BeautifulSoup\nimport requests"
        },
        {
            "cell_type": "markdown",
            "metadata": {},
            "source": "## Using Data from the Internet "
        },
        {
            "cell_type": "code",
            "execution_count": 2,
            "metadata": {},
            "outputs": [],
            "source": "# getting data from internet\nwikipedia_link='https://en.wikipedia.org/wiki/List_of_postal_codes_of_Canada:_M'\nraw_wikipedia_page= requests.get(wikipedia_link).text\n\n# using beautiful soup to parse the HTML/XML codes.\nsoup = BeautifulSoup(raw_wikipedia_page,'xml')\n#print(soup.prettify())"
        },
        {
            "cell_type": "markdown",
            "metadata": {},
            "source": "## Extraction of Data"
        },
        {
            "cell_type": "code",
            "execution_count": 3,
            "metadata": {},
            "outputs": [
                {
                    "data": {
                        "text/plain": "['M1A',\n 'Not assigned',\n 'Not assigned',\n 'M2A',\n 'Not assigned',\n 'Not assigned',\n 'M3A',\n 'North York',\n 'Parkwoods',\n 'M4A',\n 'North York',\n 'Victoria Village',\n 'M5A',\n 'Downtown Toronto',\n 'Harbourfront',\n 'M6A',\n 'North York',\n 'Lawrence Heights',\n 'M6A',\n 'North York',\n 'Lawrence Manor',\n 'M7A',\n 'Downtown Toronto',\n \"Queen's Park\",\n 'M8A',\n 'Not assigned',\n 'Not assigned',\n 'M9A',\n \"Queen's Park\",\n 'Not assigned',\n 'M1B',\n 'Scarborough',\n 'Rouge',\n 'M1B',\n 'Scarborough',\n 'Malvern',\n 'M2B',\n 'Not assigned',\n 'Not assigned',\n 'M3B',\n 'North York',\n 'Don Mills North',\n 'M4B',\n 'East York',\n 'Woodbine Gardens',\n 'M4B',\n 'East York',\n 'Parkview Hill',\n 'M5B',\n 'Downtown Toronto',\n 'Ryerson',\n 'M5B',\n 'Downtown Toronto',\n 'Garden District',\n 'M6B',\n 'North York',\n 'Glencairn',\n 'M7B',\n 'Not assigned',\n 'Not assigned',\n 'M8B',\n 'Not assigned',\n 'Not assigned',\n 'M9B',\n 'Etobicoke',\n 'Cloverdale',\n 'M9B',\n 'Etobicoke',\n 'Islington',\n 'M9B',\n 'Etobicoke',\n 'Martin Grove',\n 'M9B',\n 'Etobicoke',\n 'Princess Gardens',\n 'M9B',\n 'Etobicoke',\n 'West Deane Park',\n 'M1C',\n 'Scarborough',\n 'Highland Creek',\n 'M1C',\n 'Scarborough',\n 'Rouge Hill',\n 'M1C',\n 'Scarborough',\n 'Port Union',\n 'M2C',\n 'Not assigned',\n 'Not assigned',\n 'M3C',\n 'North York',\n 'Flemingdon Park',\n 'M3C',\n 'North York',\n 'Don Mills South',\n 'M4C',\n 'East York',\n 'Woodbine Heights',\n 'M5C',\n 'Downtown Toronto',\n 'St. James Town',\n 'M6C',\n 'York',\n 'Humewood-Cedarvale',\n 'M7C',\n 'Not assigned',\n 'Not assigned',\n 'M8C',\n 'Not assigned',\n 'Not assigned',\n 'M9C',\n 'Etobicoke',\n 'Bloordale Gardens',\n 'M9C',\n 'Etobicoke',\n 'Eringate',\n 'M9C',\n 'Etobicoke',\n 'Markland Wood',\n 'M9C',\n 'Etobicoke',\n 'Old Burnhamthorpe',\n 'M1E',\n 'Scarborough',\n 'Guildwood',\n 'M1E',\n 'Scarborough',\n 'Morningside',\n 'M1E',\n 'Scarborough',\n 'West Hill',\n 'M2E',\n 'Not assigned',\n 'Not assigned',\n 'M3E',\n 'Not assigned',\n 'Not assigned',\n 'M4E',\n 'East Toronto',\n 'The Beaches',\n 'M5E',\n 'Downtown Toronto',\n 'Berczy Park',\n 'M6E',\n 'York',\n 'Caledonia-Fairbanks',\n 'M7E',\n 'Not assigned',\n 'Not assigned',\n 'M8E',\n 'Not assigned',\n 'Not assigned',\n 'M9E',\n 'Not assigned',\n 'Not assigned',\n 'M1G',\n 'Scarborough',\n 'Woburn',\n 'M2G',\n 'Not assigned',\n 'Not assigned',\n 'M3G',\n 'Not assigned',\n 'Not assigned',\n 'M4G',\n 'East York',\n 'Leaside',\n 'M5G',\n 'Downtown Toronto',\n 'Central Bay Street',\n 'M6G',\n 'Downtown Toronto',\n 'Christie',\n 'M7G',\n 'Not assigned',\n 'Not assigned',\n 'M8G',\n 'Not assigned',\n 'Not assigned',\n 'M9G',\n 'Not assigned',\n 'Not assigned',\n 'M1H',\n 'Scarborough',\n 'Cedarbrae',\n 'M2H',\n 'North York',\n 'Hillcrest Village',\n 'M3H',\n 'North York',\n 'Bathurst Manor',\n 'M3H',\n 'North York',\n 'Downsview North',\n 'M3H',\n 'North York',\n 'Wilson Heights',\n 'M4H',\n 'East York',\n 'Thorncliffe Park',\n 'M5H',\n 'Downtown Toronto',\n 'Adelaide',\n 'M5H',\n 'Downtown Toronto',\n 'King',\n 'M5H',\n 'Downtown Toronto',\n 'Richmond',\n 'M6H',\n 'West Toronto',\n 'Dovercourt Village',\n 'M6H',\n 'West Toronto',\n 'Dufferin',\n 'M7H',\n 'Not assigned',\n 'Not assigned',\n 'M8H',\n 'Not assigned',\n 'Not assigned',\n 'M9H',\n 'Not assigned',\n 'Not assigned',\n 'M1J',\n 'Scarborough',\n 'Scarborough Village',\n 'M2J',\n 'North York',\n 'Fairview',\n 'M2J',\n 'North York',\n 'Henry Farm',\n 'M2J',\n 'North York',\n 'Oriole',\n 'M3J',\n 'North York',\n 'Northwood Park',\n 'M3J',\n 'North York',\n 'York University',\n 'M4J',\n 'East York',\n 'East Toronto',\n 'M5J',\n 'Downtown Toronto',\n 'Harbourfront East',\n 'M5J',\n 'Downtown Toronto',\n 'Toronto Islands',\n 'M5J',\n 'Downtown Toronto',\n 'Union Station',\n 'M6J',\n 'West Toronto',\n 'Little Portugal',\n 'M6J',\n 'West Toronto',\n 'Trinity',\n 'M7J',\n 'Not assigned',\n 'Not assigned',\n 'M8J',\n 'Not assigned',\n 'Not assigned',\n 'M9J',\n 'Not assigned',\n 'Not assigned',\n 'M1K',\n 'Scarborough',\n 'East Birchmount Park',\n 'M1K',\n 'Scarborough',\n 'Ionview',\n 'M1K',\n 'Scarborough',\n 'Kennedy Park',\n 'M2K',\n 'North York',\n 'Bayview Village',\n 'M3K',\n 'North York',\n 'CFB Toronto',\n 'M3K',\n 'North York',\n 'Downsview East',\n 'M4K',\n 'East Toronto',\n 'The Danforth West',\n 'M4K',\n 'East Toronto',\n 'Riverdale',\n 'M5K',\n 'Downtown Toronto',\n 'Design Exchange',\n 'M5K',\n 'Downtown Toronto',\n 'Toronto Dominion Centre',\n 'M6K',\n 'West Toronto',\n 'Brockton',\n 'M6K',\n 'West Toronto',\n 'Exhibition Place',\n 'M6K',\n 'West Toronto',\n 'Parkdale Village',\n 'M7K',\n 'Not assigned',\n 'Not assigned',\n 'M8K',\n 'Not assigned',\n 'Not assigned',\n 'M9K',\n 'Not assigned',\n 'Not assigned',\n 'M1L',\n 'Scarborough',\n 'Clairlea',\n 'M1L',\n 'Scarborough',\n 'Golden Mile',\n 'M1L',\n 'Scarborough',\n 'Oakridge',\n 'M2L',\n 'North York',\n 'Silver Hills',\n 'M2L',\n 'North York',\n 'York Mills',\n 'M3L',\n 'North York',\n 'Downsview West',\n 'M4L',\n 'East Toronto',\n 'The Beaches West',\n 'M4L',\n 'East Toronto',\n 'India Bazaar',\n 'M5L',\n 'Downtown Toronto',\n 'Commerce Court',\n 'M5L',\n 'Downtown Toronto',\n 'Victoria Hotel',\n 'M6L',\n 'North York',\n 'Downsview',\n 'M6L',\n 'North York',\n 'North Park',\n 'M6L',\n 'North York',\n 'Upwood Park',\n 'M7L',\n 'Not assigned',\n 'Not assigned',\n 'M8L',\n 'Not assigned',\n 'Not assigned',\n 'M9L',\n 'North York',\n 'Humber Summit',\n 'M1M',\n 'Scarborough',\n 'Cliffcrest',\n 'M1M',\n 'Scarborough',\n 'Cliffside',\n 'M1M',\n 'Scarborough',\n 'Scarborough Village West',\n 'M2M',\n 'North York',\n 'Newtonbrook',\n 'M2M',\n 'North York',\n 'Willowdale',\n 'M3M',\n 'North York',\n 'Downsview Central',\n 'M4M',\n 'East Toronto',\n 'Studio District',\n 'M5M',\n 'North York',\n 'Bedford Park',\n 'M5M',\n 'North York',\n 'Lawrence Manor East',\n 'M6M',\n 'York',\n 'Del Ray',\n 'M6M',\n 'York',\n 'Keelesdale',\n 'M6M',\n 'York',\n 'Mount Dennis',\n 'M6M',\n 'York',\n 'Silverthorn',\n 'M7M',\n 'Not assigned',\n 'Not assigned',\n 'M8M',\n 'Not assigned',\n 'Not assigned',\n 'M9M',\n 'North York',\n 'Emery',\n 'M9M',\n 'North York',\n 'Humberlea',\n 'M1N',\n 'Scarborough',\n 'Birch Cliff',\n 'M1N',\n 'Scarborough',\n 'Cliffside West',\n 'M2N',\n 'North York',\n 'Willowdale South',\n 'M3N',\n 'North York',\n 'Downsview Northwest',\n 'M4N',\n 'Central Toronto',\n 'Lawrence Park',\n 'M5N',\n 'Central Toronto',\n 'Roselawn',\n 'M6N',\n 'York',\n 'The Junction North',\n 'M6N',\n 'York',\n 'Runnymede',\n 'M7N',\n 'Not assigned',\n 'Not assigned',\n 'M8N',\n 'Not assigned',\n 'Not assigned',\n 'M9N',\n 'York',\n 'Weston',\n 'M1P',\n 'Scarborough',\n 'Dorset Park',\n 'M1P',\n 'Scarborough',\n 'Scarborough Town Centre',\n 'M1P',\n 'Scarborough',\n 'Wexford Heights',\n 'M2P',\n 'North York',\n 'York Mills West',\n 'M3P',\n 'Not assigned',\n 'Not assigned',\n 'M4P',\n 'Central Toronto',\n 'Davisville North',\n 'M5P',\n 'Central Toronto',\n 'Forest Hill North',\n 'M5P',\n 'Central Toronto',\n 'Forest Hill West',\n 'M6P',\n 'West Toronto',\n 'High Park',\n 'M6P',\n 'West Toronto',\n 'The Junction South',\n 'M7P',\n 'Not assigned',\n 'Not assigned',\n 'M8P',\n 'Not assigned',\n 'Not assigned',\n 'M9P',\n 'Etobicoke',\n 'Westmount',\n 'M1R',\n 'Scarborough',\n 'Maryvale',\n 'M1R',\n 'Scarborough',\n 'Wexford',\n 'M2R',\n 'North York',\n 'Willowdale West',\n 'M3R',\n 'Not assigned',\n 'Not assigned',\n 'M4R',\n 'Central Toronto',\n 'North Toronto West',\n 'M5R',\n 'Central Toronto',\n 'The Annex',\n 'M5R',\n 'Central Toronto',\n 'North Midtown',\n 'M5R',\n 'Central Toronto',\n 'Yorkville',\n 'M6R',\n 'West Toronto',\n 'Parkdale',\n 'M6R',\n 'West Toronto',\n 'Roncesvalles',\n 'M7R',\n 'Mississauga',\n 'Canada Post Gateway Processing Centre',\n 'M8R',\n 'Not assigned',\n 'Not assigned',\n 'M9R',\n 'Etobicoke',\n 'Kingsview Village',\n 'M9R',\n 'Etobicoke',\n 'Martin Grove Gardens',\n 'M9R',\n 'Etobicoke',\n 'Richview Gardens',\n 'M9R',\n 'Etobicoke',\n 'St. Phillips',\n 'M1S',\n 'Scarborough',\n 'Agincourt',\n 'M2S',\n 'Not assigned',\n 'Not assigned',\n 'M3S',\n 'Not assigned',\n 'Not assigned',\n 'M4S',\n 'Central Toronto',\n 'Davisville',\n 'M5S',\n 'Downtown Toronto',\n 'Harbord',\n 'M5S',\n 'Downtown Toronto',\n 'University of Toronto',\n 'M6S',\n 'West Toronto',\n 'Runnymede',\n 'M6S',\n 'West Toronto',\n 'Swansea',\n 'M7S',\n 'Not assigned',\n 'Not assigned',\n 'M8S',\n 'Not assigned',\n 'Not assigned',\n 'M9S',\n 'Not assigned',\n 'Not assigned',\n 'M1T',\n 'Scarborough',\n 'Clarks Corners',\n 'M1T',\n 'Scarborough',\n 'Sullivan',\n 'M1T',\n 'Scarborough',\n \"Tam O'Shanter\",\n 'M2T',\n 'Not assigned',\n 'Not assigned',\n 'M3T',\n 'Not assigned',\n 'Not assigned',\n 'M4T',\n 'Central Toronto',\n 'Moore Park',\n 'M4T',\n 'Central Toronto',\n 'Summerhill East',\n 'M5T',\n 'Downtown Toronto',\n 'Chinatown',\n 'M5T',\n 'Downtown Toronto',\n 'Grange Park',\n 'M5T',\n 'Downtown Toronto',\n 'Kensington Market',\n 'M6T',\n 'Not assigned',\n 'Not assigned',\n 'M7T',\n 'Not assigned',\n 'Not assigned',\n 'M8T',\n 'Not assigned',\n 'Not assigned',\n 'M9T',\n 'Not assigned',\n 'Not assigned',\n 'M1V',\n 'Scarborough',\n 'Agincourt North',\n 'M1V',\n 'Scarborough',\n \"L'Amoreaux East\",\n 'M1V',\n 'Scarborough',\n 'Milliken',\n 'M1V',\n 'Scarborough',\n 'Steeles East',\n 'M2V',\n 'Not assigned',\n 'Not assigned',\n 'M3V',\n 'Not assigned',\n 'Not assigned',\n 'M4V',\n 'Central Toronto',\n 'Deer Park',\n 'M4V',\n 'Central Toronto',\n 'Forest Hill SE',\n 'M4V',\n 'Central Toronto',\n 'Rathnelly',\n 'M4V',\n 'Central Toronto',\n 'South Hill',\n 'M4V',\n 'Central Toronto',\n 'Summerhill West',\n 'M5V',\n 'Downtown Toronto',\n 'CN Tower',\n 'M5V',\n 'Downtown Toronto',\n 'Bathurst Quay',\n 'M5V',\n 'Downtown Toronto',\n 'Island airport',\n 'M5V',\n 'Downtown Toronto',\n 'Harbourfront West',\n 'M5V',\n 'Downtown Toronto',\n 'King and Spadina',\n 'M5V',\n 'Downtown Toronto',\n 'Railway Lands',\n 'M5V',\n 'Downtown Toronto',\n 'South Niagara',\n 'M6V',\n 'Not assigned',\n 'Not assigned',\n 'M7V',\n 'Not assigned',\n 'Not assigned',\n 'M8V',\n 'Etobicoke',\n 'Humber Bay Shores',\n 'M8V',\n 'Etobicoke',\n 'Mimico South',\n 'M8V',\n 'Etobicoke',\n 'New Toronto',\n 'M9V',\n 'Etobicoke',\n 'Albion Gardens',\n 'M9V',\n 'Etobicoke',\n 'Beaumond Heights',\n 'M9V',\n 'Etobicoke',\n 'Humbergate',\n 'M9V',\n 'Etobicoke',\n 'Jamestown',\n 'M9V',\n 'Etobicoke',\n 'Mount Olive',\n 'M9V',\n 'Etobicoke',\n 'Silverstone',\n 'M9V',\n 'Etobicoke',\n 'South Steeles',\n 'M9V',\n 'Etobicoke',\n 'Thistletown',\n 'M1W',\n 'Scarborough',\n \"L'Amoreaux West\",\n 'M2W',\n 'Not assigned',\n 'Not assigned',\n 'M3W',\n 'Not assigned',\n 'Not assigned',\n 'M4W',\n 'Downtown Toronto',\n 'Rosedale',\n 'M5W',\n 'Downtown Toronto',\n 'Stn A PO Boxes 25 The Esplanade',\n 'M6W',\n 'Not assigned',\n 'Not assigned',\n 'M7W',\n 'Not assigned',\n 'Not assigned',\n 'M8W',\n 'Etobicoke',\n 'Alderwood',\n 'M8W',\n 'Etobicoke',\n 'Long Branch',\n 'M9W',\n 'Etobicoke',\n 'Northwest',\n 'M1X',\n 'Scarborough',\n 'Upper Rouge',\n 'M2X',\n 'Not assigned',\n 'Not assigned',\n 'M3X',\n 'Not assigned',\n 'Not assigned',\n 'M4X',\n 'Downtown Toronto',\n 'Cabbagetown',\n 'M4X',\n 'Downtown Toronto',\n 'St. James Town',\n 'M5X',\n 'Downtown Toronto',\n 'First Canadian Place',\n 'M5X',\n 'Downtown Toronto',\n 'Underground city',\n 'M6X',\n 'Not assigned',\n 'Not assigned',\n 'M7X',\n 'Not assigned',\n 'Not assigned',\n 'M8X',\n 'Etobicoke',\n 'The Kingsway',\n 'M8X',\n 'Etobicoke',\n 'Montgomery Road',\n 'M8X',\n 'Etobicoke',\n 'Old Mill North',\n 'M9X',\n 'Not assigned',\n 'Not assigned',\n 'M1Y',\n 'Not assigned',\n 'Not assigned',\n 'M2Y',\n 'Not assigned',\n 'Not assigned',\n 'M3Y',\n 'Not assigned',\n 'Not assigned',\n 'M4Y',\n 'Downtown Toronto',\n 'Church and Wellesley',\n 'M5Y',\n 'Not assigned',\n 'Not assigned',\n 'M6Y',\n 'Not assigned',\n 'Not assigned',\n 'M7Y',\n 'East Toronto',\n 'Business Reply Mail Processing Centre 969 Eastern',\n 'M8Y',\n 'Etobicoke',\n 'Humber Bay',\n 'M8Y',\n 'Etobicoke',\n \"King's Mill Park\",\n 'M8Y',\n 'Etobicoke',\n 'Kingsway Park South East',\n 'M8Y',\n 'Etobicoke',\n 'Mimico NE',\n 'M8Y',\n 'Etobicoke',\n 'Old Mill South',\n 'M8Y',\n 'Etobicoke',\n 'The Queensway East',\n 'M8Y',\n 'Etobicoke',\n 'Royal York South East',\n 'M8Y',\n 'Etobicoke',\n 'Sunnylea',\n 'M9Y',\n 'Not assigned',\n 'Not assigned',\n 'M1Z',\n 'Not assigned',\n 'Not assigned',\n 'M2Z',\n 'Not assigned',\n 'Not assigned',\n 'M3Z',\n 'Not assigned',\n 'Not assigned',\n 'M4Z',\n 'Not assigned',\n 'Not assigned',\n 'M5Z',\n 'Not assigned',\n 'Not assigned',\n 'M6Z',\n 'Not assigned',\n 'Not assigned',\n 'M7Z',\n 'Not assigned',\n 'Not assigned',\n 'M8Z',\n 'Etobicoke',\n 'Kingsway Park South West',\n 'M8Z',\n 'Etobicoke',\n 'Mimico NW',\n 'M8Z',\n 'Etobicoke',\n 'The Queensway West',\n 'M8Z',\n 'Etobicoke',\n 'Royal York South West',\n 'M8Z',\n 'Etobicoke',\n 'South of Bloor',\n 'M9Z',\n 'Not assigned',\n 'Not assigned']"
                    },
                    "execution_count": 3,
                    "metadata": {},
                    "output_type": "execute_result"
                }
            ],
            "source": "# extracting the raw table inside that webpage\ntable = soup.find('table')\n\ndf_list= []\n# extracting a clean form of the table\nfor tr_cell in table.find_all('tr'):\n    for td_cell in tr_cell.find_all('td'):\n        df_list.append(td_cell.text.strip())\n        \ndf_list"
        },
        {
            "cell_type": "code",
            "execution_count": 4,
            "metadata": {},
            "outputs": [],
            "source": "postcode = df_list[0::3]\nBorough = df_list[1::3]\nNeighborhood = df_list[2::3]"
        },
        {
            "cell_type": "code",
            "execution_count": 5,
            "metadata": {},
            "outputs": [
                {
                    "data": {
                        "text/html": "<div>\n<style scoped>\n    .dataframe tbody tr th:only-of-type {\n        vertical-align: middle;\n    }\n\n    .dataframe tbody tr th {\n        vertical-align: top;\n    }\n\n    .dataframe thead th {\n        text-align: right;\n    }\n</style>\n<table border=\"1\" class=\"dataframe\">\n  <thead>\n    <tr style=\"text-align: right;\">\n      <th></th>\n      <th>postcode</th>\n      <th>Borough</th>\n      <th>Neighborhood</th>\n    </tr>\n  </thead>\n  <tbody>\n    <tr>\n      <th>9</th>\n      <td>M9A</td>\n      <td>Queen's Park</td>\n      <td>Not assigned</td>\n    </tr>\n  </tbody>\n</table>\n</div>",
                        "text/plain": "  postcode       Borough  Neighborhood\n9      M9A  Queen's Park  Not assigned"
                    },
                    "execution_count": 5,
                    "metadata": {},
                    "output_type": "execute_result"
                }
            ],
            "source": "df_toronto = pd.DataFrame()\ndf_toronto['postcode'] = postcode\ndf_toronto['Borough'] = Borough\ndf_toronto['Neighborhood'] = Neighborhood\n\ndf_toronto.head()\ndf_toronto[df_toronto['postcode']=='M9A']"
        },
        {
            "cell_type": "markdown",
            "metadata": {},
            "source": "## Updating Not Assigned Neighborhoods "
        },
        {
            "cell_type": "code",
            "execution_count": 6,
            "metadata": {},
            "outputs": [],
            "source": "df_toronto2 = df_toronto[df_toronto['Borough']!=\"Not assigned\"]"
        },
        {
            "cell_type": "code",
            "execution_count": 7,
            "metadata": {},
            "outputs": [
                {
                    "data": {
                        "text/html": "<div>\n<style scoped>\n    .dataframe tbody tr th:only-of-type {\n        vertical-align: middle;\n    }\n\n    .dataframe tbody tr th {\n        vertical-align: top;\n    }\n\n    .dataframe thead th {\n        text-align: right;\n    }\n</style>\n<table border=\"1\" class=\"dataframe\">\n  <thead>\n    <tr style=\"text-align: right;\">\n      <th></th>\n      <th>postcode</th>\n      <th>Borough</th>\n      <th>Neighborhood</th>\n    </tr>\n  </thead>\n  <tbody>\n    <tr>\n      <th>9</th>\n      <td>M9A</td>\n      <td>Queen's Park</td>\n      <td>Not assigned</td>\n    </tr>\n  </tbody>\n</table>\n</div>",
                        "text/plain": "  postcode       Borough  Neighborhood\n9      M9A  Queen's Park  Not assigned"
                    },
                    "execution_count": 7,
                    "metadata": {},
                    "output_type": "execute_result"
                }
            ],
            "source": "df_toronto2[df_toronto2['postcode']=='M9A']"
        },
        {
            "cell_type": "code",
            "execution_count": 8,
            "metadata": {},
            "outputs": [
                {
                    "data": {
                        "text/plain": "210"
                    },
                    "execution_count": 8,
                    "metadata": {},
                    "output_type": "execute_result"
                }
            ],
            "source": "n2 = []\ncount = 0\nfor i,j in zip(df_toronto2['Borough'],df_toronto2['Neighborhood']):\n    if j == 'Not assigned':\n        n2.append(i)\n    else:\n        n2.append(j)\n    count+=1\ncount"
        },
        {
            "cell_type": "code",
            "execution_count": 9,
            "metadata": {},
            "outputs": [
                {
                    "data": {
                        "text/plain": "210"
                    },
                    "execution_count": 9,
                    "metadata": {},
                    "output_type": "execute_result"
                }
            ],
            "source": "len(n2)"
        },
        {
            "cell_type": "code",
            "execution_count": 10,
            "metadata": {},
            "outputs": [
                {
                    "name": "stderr",
                    "output_type": "stream",
                    "text": "/opt/conda/envs/Python36/lib/python3.6/site-packages/ipykernel/__main__.py:1: SettingWithCopyWarning: \nA value is trying to be set on a copy of a slice from a DataFrame.\nTry using .loc[row_indexer,col_indexer] = value instead\n\nSee the caveats in the documentation: http://pandas.pydata.org/pandas-docs/stable/indexing.html#indexing-view-versus-copy\n  if __name__ == '__main__':\n"
                }
            ],
            "source": "df_toronto2['Neighborhood'] = n2"
        },
        {
            "cell_type": "code",
            "execution_count": 11,
            "metadata": {},
            "outputs": [
                {
                    "data": {
                        "text/html": "<div>\n<style scoped>\n    .dataframe tbody tr th:only-of-type {\n        vertical-align: middle;\n    }\n\n    .dataframe tbody tr th {\n        vertical-align: top;\n    }\n\n    .dataframe thead th {\n        text-align: right;\n    }\n</style>\n<table border=\"1\" class=\"dataframe\">\n  <thead>\n    <tr style=\"text-align: right;\">\n      <th></th>\n      <th>postcode</th>\n      <th>Borough</th>\n      <th>Neighborhood</th>\n    </tr>\n  </thead>\n  <tbody>\n    <tr>\n      <th>9</th>\n      <td>M9A</td>\n      <td>Queen's Park</td>\n      <td>Queen's Park</td>\n    </tr>\n  </tbody>\n</table>\n</div>",
                        "text/plain": "  postcode       Borough  Neighborhood\n9      M9A  Queen's Park  Queen's Park"
                    },
                    "execution_count": 11,
                    "metadata": {},
                    "output_type": "execute_result"
                }
            ],
            "source": "df_toronto2[df_toronto2['postcode']=='M9A']"
        },
        {
            "cell_type": "code",
            "execution_count": 12,
            "metadata": {},
            "outputs": [
                {
                    "data": {
                        "text/html": "<div>\n<style scoped>\n    .dataframe tbody tr th:only-of-type {\n        vertical-align: middle;\n    }\n\n    .dataframe tbody tr th {\n        vertical-align: top;\n    }\n\n    .dataframe thead th {\n        text-align: right;\n    }\n</style>\n<table border=\"1\" class=\"dataframe\">\n  <thead>\n    <tr style=\"text-align: right;\">\n      <th></th>\n      <th>postcode</th>\n      <th>Borough</th>\n      <th>Neighborhood</th>\n    </tr>\n  </thead>\n  <tbody>\n    <tr>\n      <th>2</th>\n      <td>M3A</td>\n      <td>North York</td>\n      <td>Parkwoods</td>\n    </tr>\n    <tr>\n      <th>3</th>\n      <td>M4A</td>\n      <td>North York</td>\n      <td>Victoria Village</td>\n    </tr>\n    <tr>\n      <th>4</th>\n      <td>M5A</td>\n      <td>Downtown Toronto</td>\n      <td>Harbourfront</td>\n    </tr>\n    <tr>\n      <th>5</th>\n      <td>M6A</td>\n      <td>North York</td>\n      <td>Lawrence Heights</td>\n    </tr>\n    <tr>\n      <th>6</th>\n      <td>M6A</td>\n      <td>North York</td>\n      <td>Lawrence Manor</td>\n    </tr>\n    <tr>\n      <th>7</th>\n      <td>M7A</td>\n      <td>Downtown Toronto</td>\n      <td>Queen's Park</td>\n    </tr>\n    <tr>\n      <th>9</th>\n      <td>M9A</td>\n      <td>Queen's Park</td>\n      <td>Queen's Park</td>\n    </tr>\n    <tr>\n      <th>10</th>\n      <td>M1B</td>\n      <td>Scarborough</td>\n      <td>Rouge</td>\n    </tr>\n    <tr>\n      <th>11</th>\n      <td>M1B</td>\n      <td>Scarborough</td>\n      <td>Malvern</td>\n    </tr>\n    <tr>\n      <th>13</th>\n      <td>M3B</td>\n      <td>North York</td>\n      <td>Don Mills North</td>\n    </tr>\n    <tr>\n      <th>14</th>\n      <td>M4B</td>\n      <td>East York</td>\n      <td>Woodbine Gardens</td>\n    </tr>\n    <tr>\n      <th>15</th>\n      <td>M4B</td>\n      <td>East York</td>\n      <td>Parkview Hill</td>\n    </tr>\n    <tr>\n      <th>16</th>\n      <td>M5B</td>\n      <td>Downtown Toronto</td>\n      <td>Ryerson</td>\n    </tr>\n    <tr>\n      <th>17</th>\n      <td>M5B</td>\n      <td>Downtown Toronto</td>\n      <td>Garden District</td>\n    </tr>\n    <tr>\n      <th>18</th>\n      <td>M6B</td>\n      <td>North York</td>\n      <td>Glencairn</td>\n    </tr>\n    <tr>\n      <th>21</th>\n      <td>M9B</td>\n      <td>Etobicoke</td>\n      <td>Cloverdale</td>\n    </tr>\n    <tr>\n      <th>22</th>\n      <td>M9B</td>\n      <td>Etobicoke</td>\n      <td>Islington</td>\n    </tr>\n    <tr>\n      <th>23</th>\n      <td>M9B</td>\n      <td>Etobicoke</td>\n      <td>Martin Grove</td>\n    </tr>\n    <tr>\n      <th>24</th>\n      <td>M9B</td>\n      <td>Etobicoke</td>\n      <td>Princess Gardens</td>\n    </tr>\n    <tr>\n      <th>25</th>\n      <td>M9B</td>\n      <td>Etobicoke</td>\n      <td>West Deane Park</td>\n    </tr>\n    <tr>\n      <th>26</th>\n      <td>M1C</td>\n      <td>Scarborough</td>\n      <td>Highland Creek</td>\n    </tr>\n    <tr>\n      <th>27</th>\n      <td>M1C</td>\n      <td>Scarborough</td>\n      <td>Rouge Hill</td>\n    </tr>\n    <tr>\n      <th>28</th>\n      <td>M1C</td>\n      <td>Scarborough</td>\n      <td>Port Union</td>\n    </tr>\n    <tr>\n      <th>30</th>\n      <td>M3C</td>\n      <td>North York</td>\n      <td>Flemingdon Park</td>\n    </tr>\n    <tr>\n      <th>31</th>\n      <td>M3C</td>\n      <td>North York</td>\n      <td>Don Mills South</td>\n    </tr>\n    <tr>\n      <th>32</th>\n      <td>M4C</td>\n      <td>East York</td>\n      <td>Woodbine Heights</td>\n    </tr>\n    <tr>\n      <th>33</th>\n      <td>M5C</td>\n      <td>Downtown Toronto</td>\n      <td>St. James Town</td>\n    </tr>\n    <tr>\n      <th>34</th>\n      <td>M6C</td>\n      <td>York</td>\n      <td>Humewood-Cedarvale</td>\n    </tr>\n    <tr>\n      <th>37</th>\n      <td>M9C</td>\n      <td>Etobicoke</td>\n      <td>Bloordale Gardens</td>\n    </tr>\n    <tr>\n      <th>38</th>\n      <td>M9C</td>\n      <td>Etobicoke</td>\n      <td>Eringate</td>\n    </tr>\n    <tr>\n      <th>...</th>\n      <td>...</td>\n      <td>...</td>\n      <td>...</td>\n    </tr>\n    <tr>\n      <th>234</th>\n      <td>M9V</td>\n      <td>Etobicoke</td>\n      <td>Thistletown</td>\n    </tr>\n    <tr>\n      <th>235</th>\n      <td>M1W</td>\n      <td>Scarborough</td>\n      <td>L'Amoreaux West</td>\n    </tr>\n    <tr>\n      <th>238</th>\n      <td>M4W</td>\n      <td>Downtown Toronto</td>\n      <td>Rosedale</td>\n    </tr>\n    <tr>\n      <th>239</th>\n      <td>M5W</td>\n      <td>Downtown Toronto</td>\n      <td>Stn A PO Boxes 25 The Esplanade</td>\n    </tr>\n    <tr>\n      <th>242</th>\n      <td>M8W</td>\n      <td>Etobicoke</td>\n      <td>Alderwood</td>\n    </tr>\n    <tr>\n      <th>243</th>\n      <td>M8W</td>\n      <td>Etobicoke</td>\n      <td>Long Branch</td>\n    </tr>\n    <tr>\n      <th>244</th>\n      <td>M9W</td>\n      <td>Etobicoke</td>\n      <td>Northwest</td>\n    </tr>\n    <tr>\n      <th>245</th>\n      <td>M1X</td>\n      <td>Scarborough</td>\n      <td>Upper Rouge</td>\n    </tr>\n    <tr>\n      <th>248</th>\n      <td>M4X</td>\n      <td>Downtown Toronto</td>\n      <td>Cabbagetown</td>\n    </tr>\n    <tr>\n      <th>249</th>\n      <td>M4X</td>\n      <td>Downtown Toronto</td>\n      <td>St. James Town</td>\n    </tr>\n    <tr>\n      <th>250</th>\n      <td>M5X</td>\n      <td>Downtown Toronto</td>\n      <td>First Canadian Place</td>\n    </tr>\n    <tr>\n      <th>251</th>\n      <td>M5X</td>\n      <td>Downtown Toronto</td>\n      <td>Underground city</td>\n    </tr>\n    <tr>\n      <th>254</th>\n      <td>M8X</td>\n      <td>Etobicoke</td>\n      <td>The Kingsway</td>\n    </tr>\n    <tr>\n      <th>255</th>\n      <td>M8X</td>\n      <td>Etobicoke</td>\n      <td>Montgomery Road</td>\n    </tr>\n    <tr>\n      <th>256</th>\n      <td>M8X</td>\n      <td>Etobicoke</td>\n      <td>Old Mill North</td>\n    </tr>\n    <tr>\n      <th>261</th>\n      <td>M4Y</td>\n      <td>Downtown Toronto</td>\n      <td>Church and Wellesley</td>\n    </tr>\n    <tr>\n      <th>264</th>\n      <td>M7Y</td>\n      <td>East Toronto</td>\n      <td>Business Reply Mail Processing Centre 969 Eastern</td>\n    </tr>\n    <tr>\n      <th>265</th>\n      <td>M8Y</td>\n      <td>Etobicoke</td>\n      <td>Humber Bay</td>\n    </tr>\n    <tr>\n      <th>266</th>\n      <td>M8Y</td>\n      <td>Etobicoke</td>\n      <td>King's Mill Park</td>\n    </tr>\n    <tr>\n      <th>267</th>\n      <td>M8Y</td>\n      <td>Etobicoke</td>\n      <td>Kingsway Park South East</td>\n    </tr>\n    <tr>\n      <th>268</th>\n      <td>M8Y</td>\n      <td>Etobicoke</td>\n      <td>Mimico NE</td>\n    </tr>\n    <tr>\n      <th>269</th>\n      <td>M8Y</td>\n      <td>Etobicoke</td>\n      <td>Old Mill South</td>\n    </tr>\n    <tr>\n      <th>270</th>\n      <td>M8Y</td>\n      <td>Etobicoke</td>\n      <td>The Queensway East</td>\n    </tr>\n    <tr>\n      <th>271</th>\n      <td>M8Y</td>\n      <td>Etobicoke</td>\n      <td>Royal York South East</td>\n    </tr>\n    <tr>\n      <th>272</th>\n      <td>M8Y</td>\n      <td>Etobicoke</td>\n      <td>Sunnylea</td>\n    </tr>\n    <tr>\n      <th>281</th>\n      <td>M8Z</td>\n      <td>Etobicoke</td>\n      <td>Kingsway Park South West</td>\n    </tr>\n    <tr>\n      <th>282</th>\n      <td>M8Z</td>\n      <td>Etobicoke</td>\n      <td>Mimico NW</td>\n    </tr>\n    <tr>\n      <th>283</th>\n      <td>M8Z</td>\n      <td>Etobicoke</td>\n      <td>The Queensway West</td>\n    </tr>\n    <tr>\n      <th>284</th>\n      <td>M8Z</td>\n      <td>Etobicoke</td>\n      <td>Royal York South West</td>\n    </tr>\n    <tr>\n      <th>285</th>\n      <td>M8Z</td>\n      <td>Etobicoke</td>\n      <td>South of Bloor</td>\n    </tr>\n  </tbody>\n</table>\n<p>210 rows \u00d7 3 columns</p>\n</div>",
                        "text/plain": "    postcode           Borough  \\\n2        M3A        North York   \n3        M4A        North York   \n4        M5A  Downtown Toronto   \n5        M6A        North York   \n6        M6A        North York   \n7        M7A  Downtown Toronto   \n9        M9A      Queen's Park   \n10       M1B       Scarborough   \n11       M1B       Scarborough   \n13       M3B        North York   \n14       M4B         East York   \n15       M4B         East York   \n16       M5B  Downtown Toronto   \n17       M5B  Downtown Toronto   \n18       M6B        North York   \n21       M9B         Etobicoke   \n22       M9B         Etobicoke   \n23       M9B         Etobicoke   \n24       M9B         Etobicoke   \n25       M9B         Etobicoke   \n26       M1C       Scarborough   \n27       M1C       Scarborough   \n28       M1C       Scarborough   \n30       M3C        North York   \n31       M3C        North York   \n32       M4C         East York   \n33       M5C  Downtown Toronto   \n34       M6C              York   \n37       M9C         Etobicoke   \n38       M9C         Etobicoke   \n..       ...               ...   \n234      M9V         Etobicoke   \n235      M1W       Scarborough   \n238      M4W  Downtown Toronto   \n239      M5W  Downtown Toronto   \n242      M8W         Etobicoke   \n243      M8W         Etobicoke   \n244      M9W         Etobicoke   \n245      M1X       Scarborough   \n248      M4X  Downtown Toronto   \n249      M4X  Downtown Toronto   \n250      M5X  Downtown Toronto   \n251      M5X  Downtown Toronto   \n254      M8X         Etobicoke   \n255      M8X         Etobicoke   \n256      M8X         Etobicoke   \n261      M4Y  Downtown Toronto   \n264      M7Y      East Toronto   \n265      M8Y         Etobicoke   \n266      M8Y         Etobicoke   \n267      M8Y         Etobicoke   \n268      M8Y         Etobicoke   \n269      M8Y         Etobicoke   \n270      M8Y         Etobicoke   \n271      M8Y         Etobicoke   \n272      M8Y         Etobicoke   \n281      M8Z         Etobicoke   \n282      M8Z         Etobicoke   \n283      M8Z         Etobicoke   \n284      M8Z         Etobicoke   \n285      M8Z         Etobicoke   \n\n                                          Neighborhood  \n2                                            Parkwoods  \n3                                     Victoria Village  \n4                                         Harbourfront  \n5                                     Lawrence Heights  \n6                                       Lawrence Manor  \n7                                         Queen's Park  \n9                                         Queen's Park  \n10                                               Rouge  \n11                                             Malvern  \n13                                     Don Mills North  \n14                                    Woodbine Gardens  \n15                                       Parkview Hill  \n16                                             Ryerson  \n17                                     Garden District  \n18                                           Glencairn  \n21                                          Cloverdale  \n22                                           Islington  \n23                                        Martin Grove  \n24                                    Princess Gardens  \n25                                     West Deane Park  \n26                                      Highland Creek  \n27                                          Rouge Hill  \n28                                          Port Union  \n30                                     Flemingdon Park  \n31                                     Don Mills South  \n32                                    Woodbine Heights  \n33                                      St. James Town  \n34                                  Humewood-Cedarvale  \n37                                   Bloordale Gardens  \n38                                            Eringate  \n..                                                 ...  \n234                                        Thistletown  \n235                                    L'Amoreaux West  \n238                                           Rosedale  \n239                    Stn A PO Boxes 25 The Esplanade  \n242                                          Alderwood  \n243                                        Long Branch  \n244                                          Northwest  \n245                                        Upper Rouge  \n248                                        Cabbagetown  \n249                                     St. James Town  \n250                               First Canadian Place  \n251                                   Underground city  \n254                                       The Kingsway  \n255                                    Montgomery Road  \n256                                     Old Mill North  \n261                               Church and Wellesley  \n264  Business Reply Mail Processing Centre 969 Eastern  \n265                                         Humber Bay  \n266                                   King's Mill Park  \n267                           Kingsway Park South East  \n268                                          Mimico NE  \n269                                     Old Mill South  \n270                                 The Queensway East  \n271                              Royal York South East  \n272                                           Sunnylea  \n281                           Kingsway Park South West  \n282                                          Mimico NW  \n283                                 The Queensway West  \n284                              Royal York South West  \n285                                     South of Bloor  \n\n[210 rows x 3 columns]"
                    },
                    "execution_count": 12,
                    "metadata": {},
                    "output_type": "execute_result"
                }
            ],
            "source": "df_toronto2"
        },
        {
            "cell_type": "markdown",
            "metadata": {},
            "source": "## Updating Neighborhoods To List More Than One That Have A Common Postal Code"
        },
        {
            "cell_type": "code",
            "execution_count": 13,
            "metadata": {},
            "outputs": [],
            "source": "df_update=df_toronto2.groupby('postcode')['Neighborhood'].apply(lambda x: \"%s\" % ', '.join(x))\ndf_update=df_update.reset_index(drop=False)\ndf_update.rename(columns={'Neighborhood':'Neighborhood_joined'},inplace=True)"
        },
        {
            "cell_type": "code",
            "execution_count": 14,
            "metadata": {},
            "outputs": [],
            "source": "df_toronto3 = pd.merge(df_toronto2,df_update,on='postcode')"
        },
        {
            "cell_type": "code",
            "execution_count": 15,
            "metadata": {},
            "outputs": [],
            "source": "df_toronto3.drop(['Neighborhood'],axis=1,inplace=True)"
        },
        {
            "cell_type": "code",
            "execution_count": 16,
            "metadata": {},
            "outputs": [],
            "source": "df_toronto3.drop_duplicates(inplace=True)"
        },
        {
            "cell_type": "code",
            "execution_count": 17,
            "metadata": {},
            "outputs": [],
            "source": "df_toronto3.rename(columns={'Neighborhood_joined':'Neighborhood'},inplace=True)"
        },
        {
            "cell_type": "code",
            "execution_count": 18,
            "metadata": {},
            "outputs": [
                {
                    "data": {
                        "text/html": "<div>\n<style scoped>\n    .dataframe tbody tr th:only-of-type {\n        vertical-align: middle;\n    }\n\n    .dataframe tbody tr th {\n        vertical-align: top;\n    }\n\n    .dataframe thead th {\n        text-align: right;\n    }\n</style>\n<table border=\"1\" class=\"dataframe\">\n  <thead>\n    <tr style=\"text-align: right;\">\n      <th></th>\n      <th>postcode</th>\n      <th>Borough</th>\n      <th>Neighborhood</th>\n    </tr>\n  </thead>\n  <tbody>\n    <tr>\n      <th>0</th>\n      <td>M3A</td>\n      <td>North York</td>\n      <td>Parkwoods</td>\n    </tr>\n    <tr>\n      <th>1</th>\n      <td>M4A</td>\n      <td>North York</td>\n      <td>Victoria Village</td>\n    </tr>\n    <tr>\n      <th>2</th>\n      <td>M5A</td>\n      <td>Downtown Toronto</td>\n      <td>Harbourfront</td>\n    </tr>\n    <tr>\n      <th>3</th>\n      <td>M6A</td>\n      <td>North York</td>\n      <td>Lawrence Heights, Lawrence Manor</td>\n    </tr>\n    <tr>\n      <th>5</th>\n      <td>M7A</td>\n      <td>Downtown Toronto</td>\n      <td>Queen's Park</td>\n    </tr>\n    <tr>\n      <th>6</th>\n      <td>M9A</td>\n      <td>Queen's Park</td>\n      <td>Queen's Park</td>\n    </tr>\n    <tr>\n      <th>7</th>\n      <td>M1B</td>\n      <td>Scarborough</td>\n      <td>Rouge, Malvern</td>\n    </tr>\n    <tr>\n      <th>9</th>\n      <td>M3B</td>\n      <td>North York</td>\n      <td>Don Mills North</td>\n    </tr>\n    <tr>\n      <th>10</th>\n      <td>M4B</td>\n      <td>East York</td>\n      <td>Woodbine Gardens, Parkview Hill</td>\n    </tr>\n    <tr>\n      <th>12</th>\n      <td>M5B</td>\n      <td>Downtown Toronto</td>\n      <td>Ryerson, Garden District</td>\n    </tr>\n  </tbody>\n</table>\n</div>",
                        "text/plain": "   postcode           Borough                      Neighborhood\n0       M3A        North York                         Parkwoods\n1       M4A        North York                  Victoria Village\n2       M5A  Downtown Toronto                      Harbourfront\n3       M6A        North York  Lawrence Heights, Lawrence Manor\n5       M7A  Downtown Toronto                      Queen's Park\n6       M9A      Queen's Park                      Queen's Park\n7       M1B       Scarborough                    Rouge, Malvern\n9       M3B        North York                   Don Mills North\n10      M4B         East York   Woodbine Gardens, Parkview Hill\n12      M5B  Downtown Toronto          Ryerson, Garden District"
                    },
                    "execution_count": 18,
                    "metadata": {},
                    "output_type": "execute_result"
                }
            ],
            "source": "df_toronto3.head(10)"
        },
        {
            "cell_type": "code",
            "execution_count": 19,
            "metadata": {},
            "outputs": [
                {
                    "data": {
                        "text/plain": "(103, 3)"
                    },
                    "execution_count": 19,
                    "metadata": {},
                    "output_type": "execute_result"
                }
            ],
            "source": "df_toronto3.shape"
        },
        {
            "cell_type": "code",
            "execution_count": 37,
            "metadata": {},
            "outputs": [],
            "source": "def get_geocode(postal_code):\n    # initialize your variable to None\n    lat_lng_coords = None\n    while(lat_lng_coords is None):\n        g = geocoder.google('{}, Toronto, Ontario'.format(postal_code))\n        lat_lng_coords = g.latlng\n    latitude = lat_lng_coords[0]\n    longitude = lat_lng_coords[1]\n    return latitude,longitude"
        },
        {
            "cell_type": "code",
            "execution_count": 38,
            "metadata": {},
            "outputs": [],
            "source": "df_geo=pd.read_csv('http://cocl.us/Geospatial_data')"
        },
        {
            "cell_type": "code",
            "execution_count": 39,
            "metadata": {},
            "outputs": [
                {
                    "data": {
                        "text/html": "<div>\n<style scoped>\n    .dataframe tbody tr th:only-of-type {\n        vertical-align: middle;\n    }\n\n    .dataframe tbody tr th {\n        vertical-align: top;\n    }\n\n    .dataframe thead th {\n        text-align: right;\n    }\n</style>\n<table border=\"1\" class=\"dataframe\">\n  <thead>\n    <tr style=\"text-align: right;\">\n      <th></th>\n      <th>Postal Code</th>\n      <th>Latitude</th>\n      <th>Longitude</th>\n    </tr>\n  </thead>\n  <tbody>\n    <tr>\n      <th>0</th>\n      <td>M1B</td>\n      <td>43.806686</td>\n      <td>-79.194353</td>\n    </tr>\n    <tr>\n      <th>1</th>\n      <td>M1C</td>\n      <td>43.784535</td>\n      <td>-79.160497</td>\n    </tr>\n    <tr>\n      <th>2</th>\n      <td>M1E</td>\n      <td>43.763573</td>\n      <td>-79.188711</td>\n    </tr>\n    <tr>\n      <th>3</th>\n      <td>M1G</td>\n      <td>43.770992</td>\n      <td>-79.216917</td>\n    </tr>\n    <tr>\n      <th>4</th>\n      <td>M1H</td>\n      <td>43.773136</td>\n      <td>-79.239476</td>\n    </tr>\n  </tbody>\n</table>\n</div>",
                        "text/plain": "  Postal Code   Latitude  Longitude\n0         M1B  43.806686 -79.194353\n1         M1C  43.784535 -79.160497\n2         M1E  43.763573 -79.188711\n3         M1G  43.770992 -79.216917\n4         M1H  43.773136 -79.239476"
                    },
                    "execution_count": 39,
                    "metadata": {},
                    "output_type": "execute_result"
                }
            ],
            "source": "df_geo.head()"
        },
        {
            "cell_type": "code",
            "execution_count": 42,
            "metadata": {},
            "outputs": [],
            "source": "df_geo.rename(columns={'Postal Code':'postcode'},inplace=True)\ngeo_combined = pd.merge(df_geo, df_toronto3, on= 'postcode')"
        },
        {
            "cell_type": "code",
            "execution_count": 44,
            "metadata": {},
            "outputs": [
                {
                    "data": {
                        "text/html": "<div>\n<style scoped>\n    .dataframe tbody tr th:only-of-type {\n        vertical-align: middle;\n    }\n\n    .dataframe tbody tr th {\n        vertical-align: top;\n    }\n\n    .dataframe thead th {\n        text-align: right;\n    }\n</style>\n<table border=\"1\" class=\"dataframe\">\n  <thead>\n    <tr style=\"text-align: right;\">\n      <th></th>\n      <th>postcode</th>\n      <th>Latitude</th>\n      <th>Longitude</th>\n      <th>Borough</th>\n      <th>Neighborhood</th>\n    </tr>\n  </thead>\n  <tbody>\n    <tr>\n      <th>0</th>\n      <td>M1B</td>\n      <td>43.806686</td>\n      <td>-79.194353</td>\n      <td>Scarborough</td>\n      <td>Rouge, Malvern</td>\n    </tr>\n    <tr>\n      <th>1</th>\n      <td>M1C</td>\n      <td>43.784535</td>\n      <td>-79.160497</td>\n      <td>Scarborough</td>\n      <td>Highland Creek, Rouge Hill, Port Union</td>\n    </tr>\n    <tr>\n      <th>2</th>\n      <td>M1E</td>\n      <td>43.763573</td>\n      <td>-79.188711</td>\n      <td>Scarborough</td>\n      <td>Guildwood, Morningside, West Hill</td>\n    </tr>\n    <tr>\n      <th>3</th>\n      <td>M1G</td>\n      <td>43.770992</td>\n      <td>-79.216917</td>\n      <td>Scarborough</td>\n      <td>Woburn</td>\n    </tr>\n    <tr>\n      <th>4</th>\n      <td>M1H</td>\n      <td>43.773136</td>\n      <td>-79.239476</td>\n      <td>Scarborough</td>\n      <td>Cedarbrae</td>\n    </tr>\n    <tr>\n      <th>5</th>\n      <td>M1J</td>\n      <td>43.744734</td>\n      <td>-79.239476</td>\n      <td>Scarborough</td>\n      <td>Scarborough Village</td>\n    </tr>\n    <tr>\n      <th>6</th>\n      <td>M1K</td>\n      <td>43.727929</td>\n      <td>-79.262029</td>\n      <td>Scarborough</td>\n      <td>East Birchmount Park, Ionview, Kennedy Park</td>\n    </tr>\n    <tr>\n      <th>7</th>\n      <td>M1L</td>\n      <td>43.711112</td>\n      <td>-79.284577</td>\n      <td>Scarborough</td>\n      <td>Clairlea, Golden Mile, Oakridge</td>\n    </tr>\n    <tr>\n      <th>8</th>\n      <td>M1M</td>\n      <td>43.716316</td>\n      <td>-79.239476</td>\n      <td>Scarborough</td>\n      <td>Cliffcrest, Cliffside, Scarborough Village West</td>\n    </tr>\n    <tr>\n      <th>9</th>\n      <td>M1N</td>\n      <td>43.692657</td>\n      <td>-79.264848</td>\n      <td>Scarborough</td>\n      <td>Birch Cliff, Cliffside West</td>\n    </tr>\n  </tbody>\n</table>\n</div>",
                        "text/plain": "  postcode   Latitude  Longitude      Borough  \\\n0      M1B  43.806686 -79.194353  Scarborough   \n1      M1C  43.784535 -79.160497  Scarborough   \n2      M1E  43.763573 -79.188711  Scarborough   \n3      M1G  43.770992 -79.216917  Scarborough   \n4      M1H  43.773136 -79.239476  Scarborough   \n5      M1J  43.744734 -79.239476  Scarborough   \n6      M1K  43.727929 -79.262029  Scarborough   \n7      M1L  43.711112 -79.284577  Scarborough   \n8      M1M  43.716316 -79.239476  Scarborough   \n9      M1N  43.692657 -79.264848  Scarborough   \n\n                                      Neighborhood  \n0                                   Rouge, Malvern  \n1           Highland Creek, Rouge Hill, Port Union  \n2                Guildwood, Morningside, West Hill  \n3                                           Woburn  \n4                                        Cedarbrae  \n5                              Scarborough Village  \n6      East Birchmount Park, Ionview, Kennedy Park  \n7                  Clairlea, Golden Mile, Oakridge  \n8  Cliffcrest, Cliffside, Scarborough Village West  \n9                      Birch Cliff, Cliffside West  "
                    },
                    "execution_count": 44,
                    "metadata": {},
                    "output_type": "execute_result"
                }
            ],
            "source": "geo_combined.head(10)"
        },
        {
            "cell_type": "code",
            "execution_count": 47,
            "metadata": {},
            "outputs": [
                {
                    "data": {
                        "text/html": "<div>\n<style scoped>\n    .dataframe tbody tr th:only-of-type {\n        vertical-align: middle;\n    }\n\n    .dataframe tbody tr th {\n        vertical-align: top;\n    }\n\n    .dataframe thead th {\n        text-align: right;\n    }\n</style>\n<table border=\"1\" class=\"dataframe\">\n  <thead>\n    <tr style=\"text-align: right;\">\n      <th></th>\n      <th>postcode</th>\n      <th>Borough</th>\n      <th>Neighborhood</th>\n      <th>Latitude</th>\n      <th>Longitude</th>\n    </tr>\n  </thead>\n  <tbody>\n    <tr>\n      <th>0</th>\n      <td>M1B</td>\n      <td>Scarborough</td>\n      <td>Rouge, Malvern</td>\n      <td>43.806686</td>\n      <td>-79.194353</td>\n    </tr>\n    <tr>\n      <th>1</th>\n      <td>M1C</td>\n      <td>Scarborough</td>\n      <td>Highland Creek, Rouge Hill, Port Union</td>\n      <td>43.784535</td>\n      <td>-79.160497</td>\n    </tr>\n    <tr>\n      <th>2</th>\n      <td>M1E</td>\n      <td>Scarborough</td>\n      <td>Guildwood, Morningside, West Hill</td>\n      <td>43.763573</td>\n      <td>-79.188711</td>\n    </tr>\n    <tr>\n      <th>3</th>\n      <td>M1G</td>\n      <td>Scarborough</td>\n      <td>Woburn</td>\n      <td>43.770992</td>\n      <td>-79.216917</td>\n    </tr>\n    <tr>\n      <th>4</th>\n      <td>M1H</td>\n      <td>Scarborough</td>\n      <td>Cedarbrae</td>\n      <td>43.773136</td>\n      <td>-79.239476</td>\n    </tr>\n  </tbody>\n</table>\n</div>",
                        "text/plain": "  postcode      Borough                            Neighborhood   Latitude  \\\n0      M1B  Scarborough                          Rouge, Malvern  43.806686   \n1      M1C  Scarborough  Highland Creek, Rouge Hill, Port Union  43.784535   \n2      M1E  Scarborough       Guildwood, Morningside, West Hill  43.763573   \n3      M1G  Scarborough                                  Woburn  43.770992   \n4      M1H  Scarborough                               Cedarbrae  43.773136   \n\n   Longitude  \n0 -79.194353  \n1 -79.160497  \n2 -79.188711  \n3 -79.216917  \n4 -79.239476  "
                    },
                    "execution_count": 47,
                    "metadata": {},
                    "output_type": "execute_result"
                }
            ],
            "source": "geo_location=geo_combined[['postcode','Borough','Neighborhood','Latitude','Longitude']]\ngeo_location.head()"
        },
        {
            "cell_type": "code",
            "execution_count": 50,
            "metadata": {},
            "outputs": [
                {
                    "data": {
                        "text/html": "<div>\n<style scoped>\n    .dataframe tbody tr th:only-of-type {\n        vertical-align: middle;\n    }\n\n    .dataframe tbody tr th {\n        vertical-align: top;\n    }\n\n    .dataframe thead th {\n        text-align: right;\n    }\n</style>\n<table border=\"1\" class=\"dataframe\">\n  <thead>\n    <tr style=\"text-align: right;\">\n      <th></th>\n      <th>postcode</th>\n      <th>Borough</th>\n      <th>Neighborhood</th>\n      <th>Latitude</th>\n      <th>Longitude</th>\n    </tr>\n  </thead>\n  <tbody>\n    <tr>\n      <th>37</th>\n      <td>M4E</td>\n      <td>East Toronto</td>\n      <td>The Beaches</td>\n      <td>43.676357</td>\n      <td>-79.293031</td>\n    </tr>\n    <tr>\n      <th>41</th>\n      <td>M4K</td>\n      <td>East Toronto</td>\n      <td>The Danforth West, Riverdale</td>\n      <td>43.679557</td>\n      <td>-79.352188</td>\n    </tr>\n    <tr>\n      <th>42</th>\n      <td>M4L</td>\n      <td>East Toronto</td>\n      <td>The Beaches West, India Bazaar</td>\n      <td>43.668999</td>\n      <td>-79.315572</td>\n    </tr>\n    <tr>\n      <th>43</th>\n      <td>M4M</td>\n      <td>East Toronto</td>\n      <td>Studio District</td>\n      <td>43.659526</td>\n      <td>-79.340923</td>\n    </tr>\n    <tr>\n      <th>44</th>\n      <td>M4N</td>\n      <td>Central Toronto</td>\n      <td>Lawrence Park</td>\n      <td>43.728020</td>\n      <td>-79.388790</td>\n    </tr>\n  </tbody>\n</table>\n</div>",
                        "text/plain": "   postcode          Borough                    Neighborhood   Latitude  \\\n37      M4E     East Toronto                     The Beaches  43.676357   \n41      M4K     East Toronto    The Danforth West, Riverdale  43.679557   \n42      M4L     East Toronto  The Beaches West, India Bazaar  43.668999   \n43      M4M     East Toronto                 Studio District  43.659526   \n44      M4N  Central Toronto                   Lawrence Park  43.728020   \n\n    Longitude  \n37 -79.293031  \n41 -79.352188  \n42 -79.315572  \n43 -79.340923  \n44 -79.388790  "
                    },
                    "execution_count": 50,
                    "metadata": {},
                    "output_type": "execute_result"
                }
            ],
            "source": "df_toronto4=geo_location[geo_location['Borough'].str.contains(\"Toronto\")]\ndf_toronto4.head()"
        },
        {
            "cell_type": "code",
            "execution_count": null,
            "metadata": {},
            "outputs": [],
            "source": ""
        }
    ],
    "metadata": {
        "kernelspec": {
            "display_name": "Python 3.6",
            "language": "python",
            "name": "python3"
        },
        "language_info": {
            "codemirror_mode": {
                "name": "ipython",
                "version": 3
            },
            "file_extension": ".py",
            "mimetype": "text/x-python",
            "name": "python",
            "nbconvert_exporter": "python",
            "pygments_lexer": "ipython3",
            "version": "3.6.9"
        }
    },
    "nbformat": 4,
    "nbformat_minor": 1
}